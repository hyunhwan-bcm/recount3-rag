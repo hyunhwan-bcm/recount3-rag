{
 "cells": [
  {
   "cell_type": "markdown",
   "id": "30731ecf-b4f6-483a-848e-e22b9af0e27e",
   "metadata": {},
   "source": [
    "# build a RAG model to search recount3\n",
    "\n",
    "The goal of the notebook is to 1) embed recount3 available projects (stored in `recount3.csv`) 2) create a prompt to search projects related to the query."
   ]
  },
  {
   "cell_type": "code",
   "execution_count": 39,
   "id": "7da84181-da20-495d-80c8-7b093c8fc4cc",
   "metadata": {},
   "outputs": [],
   "source": [
    "from langchain_community.llms import Ollama\n",
    "from langchain_community.document_loaders import CSVLoader\n",
    "from langchain_community.vectorstores import FAISS\n",
    "from langchain_text_splitters import RecursiveCharacterTextSplitter\n",
    "from langchain_community.embeddings import GPT4AllEmbeddings\n",
    "from langchain import hub\n",
    "from langchain_core.runnables import RunnablePassthrough\n",
    "from langchain_core.output_parsers.string import StrOutputParser"
   ]
  },
  {
   "cell_type": "markdown",
   "id": "92f6fba0-c374-4112-a88b-b3b507b707ca",
   "metadata": {},
   "source": [
    "## Load llm model and data"
   ]
  },
  {
   "cell_type": "code",
   "execution_count": 7,
   "id": "3f04fb29-536c-4c09-8208-027169f0439d",
   "metadata": {},
   "outputs": [
    {
     "data": {
      "text/plain": [
       "Ollama(model='llama3')"
      ]
     },
     "execution_count": 7,
     "metadata": {},
     "output_type": "execute_result"
    }
   ],
   "source": [
    "llm = Ollama(model=\"llama3\")\n",
    "llm"
   ]
  },
  {
   "cell_type": "code",
   "execution_count": 27,
   "id": "f82ac6c3-c69a-408e-80b6-0e2d512941b3",
   "metadata": {},
   "outputs": [
    {
     "data": {
      "text/plain": [
       "18830"
      ]
     },
     "execution_count": 27,
     "metadata": {},
     "output_type": "execute_result"
    }
   ],
   "source": [
    "loader = CSVLoader(\"data/recount3.csv\")\n",
    "docs = loader.load()\n",
    "len(docs)"
   ]
  },
  {
   "cell_type": "code",
   "execution_count": 52,
   "id": "f4cbda47-10cf-43ae-99cb-7541dc6b7f40",
   "metadata": {},
   "outputs": [
    {
     "data": {
      "text/plain": [
       "4"
      ]
     },
     "execution_count": 52,
     "metadata": {},
     "output_type": "execute_result"
    }
   ],
   "source": [
    "text_splitter = RecursiveCharacterTextSplitter()\n",
    "documents = text_splitter.split_documents(docs)\n",
    "len(documents)"
   ]
  },
  {
   "cell_type": "code",
   "execution_count": 53,
   "id": "a11c04ef-2b97-4a19-855e-ccd392a06f41",
   "metadata": {},
   "outputs": [
    {
     "data": {
      "text/plain": [
       "[Document(page_content='organism: human\\nproject_home: data_sources/sra\\nproject: SRP179061\\nn_samples: 113\\nstudy_title: Alzheimer\\'s gene expression by cell type - SFG\\nstudy_abstract: AD patients all had Braak stages V or VI, and were also pathologically confirmed to have amyloid plaque. The \"SAMPLE_ID\" sample characteristic is a sample identifier internal to Genentech. The ID of this project in Genentech\\'s ExpressionPlot database is PRJ0018621 Overall design: RNA from purified cell types from AD and control post-mortem frozen superior frontal gyrus of AD and control patients.', metadata={'source': 'data/recount3.csv', 'row': 859}),\n",
       " Document(page_content='organism: human\\nproject_home: data_sources/sra\\nproject: SRP100948\\nn_samples: 117\\nstudy_title: Heterogeneity in neurodegenerative disease\\nstudy_abstract: RNA was purified from fusiform gyrus tissue sections of autopsy-confirmed Alzheimer\\'\\'s cases and neurologically normal age-matched controls. The \"SAM.ID\" sample characteristic is a sample identifier internal to Genentech. The ID of this project in Genentech\\'\\'s ExpressionPlot database is PRJ0007261 Overall design: RNA from fusiform gyrus of Alzheimer\\'\\'s or Neurologically Normal post-mortem tissue.', metadata={'source': 'data/recount3.csv', 'row': 846})]"
      ]
     },
     "execution_count": 53,
     "metadata": {},
     "output_type": "execute_result"
    }
   ],
   "source": [
    "documents[:2]"
   ]
  },
  {
   "cell_type": "markdown",
   "id": "31f2c0e7-cdd7-45be-b7d0-54a99bdc4dd1",
   "metadata": {},
   "source": [
    "## Embedding projects in recount3"
   ]
  },
  {
   "cell_type": "code",
   "execution_count": 47,
   "id": "f731f465-3e18-47a6-aee7-2ddbfdd58be8",
   "metadata": {},
   "outputs": [
    {
     "data": {
      "text/plain": [
       "4"
      ]
     },
     "execution_count": 47,
     "metadata": {},
     "output_type": "execute_result"
    }
   ],
   "source": [
    "# this code take a while, so need to recommend to use the stored index.\n",
    "vector_store = FAISS.from_documents(documents, GPT4AllEmbeddings())\n",
    "retriever = vector_store.as_retriever()\n",
    "vector_store.save_local(\"index\")\n",
    "\n",
    "# For a test\n",
    "docs = vector_store.similarity_search(\"I want to find the available data to study Alzheimer's disease.\")\n",
    "len(docs)"
   ]
  },
  {
   "cell_type": "markdown",
   "id": "61f9ba33-8e6d-411e-bc20-ec125ab64258",
   "metadata": {},
   "source": [
    "## Generate a prompt and RAG chain"
   ]
  },
  {
   "cell_type": "code",
   "execution_count": 81,
   "id": "eea1ac04-11e7-4567-85fd-5efa0f9503e9",
   "metadata": {},
   "outputs": [
    {
     "data": {
      "text/plain": [
       "ChatPromptTemplate(input_variables=['context', 'question'], metadata={'lc_hub_owner': 'rlm', 'lc_hub_repo': 'rag-prompt-llama', 'lc_hub_commit_hash': '693a2db5447e3b58c060a6ac02758dc7f1aaaaa4ee6214d127bf70b443158630'}, messages=[HumanMessagePromptTemplate(prompt=PromptTemplate(input_variables=['context', 'question'], template=\"[INST]<<SYS>> You are an assistant for question-answering tasks. Use the following pieces of retrieved context to answer the question. If you don't know the answer, just say that you don't know. Use three sentences maximum and keep the answer concise.<</SYS>> \\nQuestion: {question} \\nContext: {context} \\nAnswer: [/INST]\"))])"
      ]
     },
     "execution_count": 81,
     "metadata": {},
     "output_type": "execute_result"
    }
   ],
   "source": [
    "prompt = hub.pull(\"rlm/rag-prompt-llama\")\n",
    "prompt"
   ]
  },
  {
   "cell_type": "code",
   "execution_count": 82,
   "id": "08a18a94-2297-427d-b87e-a5326b7c7709",
   "metadata": {},
   "outputs": [],
   "source": [
    "def format_docs(docs):\n",
    "    return \"\\n\\n\".join(doc.page_content for doc in docs)"
   ]
  },
  {
   "cell_type": "code",
   "execution_count": 83,
   "id": "872f3b40-0471-4863-959e-dea6fc02cc9f",
   "metadata": {},
   "outputs": [],
   "source": [
    "rag_chain = (\n",
    "    {\"context\": retriever | format_docs, \"question\": RunnablePassthrough()}\n",
    "    | prompt\n",
    "    | llm\n",
    "    | StrOutputParser()\n",
    ")"
   ]
  },
  {
   "cell_type": "markdown",
   "id": "c1dd387c-60ac-44a4-8401-34a182cffe11",
   "metadata": {},
   "source": [
    "## Test dataset\n",
    "The result can be changed each time for the same query."
   ]
  },
  {
   "cell_type": "code",
   "execution_count": 87,
   "id": "7367bd5f-3cbc-491b-b30f-62220b03482a",
   "metadata": {},
   "outputs": [
    {
     "name": "stdout",
     "output_type": "stream",
     "text": [
      "I recommend three human projects related to ALS:\n",
      "\n",
      "* SRP067645 (21 samples): This project aims to identify gene expression signatures of motor neuron populations isolated from sporadic ALS patients.\n",
      "* SRP064478 (15 samples): This study compares the transcriptome profiles of postmortem cervical spinal sections from 7 ALS patients and 8 healthy controls to understand differences in gene expression between the two groups.\n",
      "* SRP100370 (4 samples): This project investigates aberrant gene expression in motor neurons derived from ALS patient-induced pluripotent stem cells bearing a specific SOD1 mutation.\n",
      "\n",
      "These projects may provide valuable insights into the molecular mechanisms underlying ALS and could potentially lead to the discovery of biomarkers or therapeutic targets.\n"
     ]
    }
   ],
   "source": [
    "print(rag_chain.invoke(\"recommend any human projects for ALS. Please tell the project id and the number of samples.\"))"
   ]
  },
  {
   "cell_type": "code",
   "execution_count": 77,
   "id": "34af1746-3949-45c0-87f5-67a1c4a5f4a7",
   "metadata": {},
   "outputs": [],
   "source": [
    "import pandas as pd"
   ]
  },
  {
   "cell_type": "code",
   "execution_count": 120,
   "id": "2aeda548-2795-41ba-ace0-457f225a6811",
   "metadata": {},
   "outputs": [
    {
     "name": "stdout",
     "output_type": "stream",
     "text": [
      "SRP067645 Gene Expression Signatures of Motor Neuron Populations Isolated from Sporadic ALS 21\n",
      "SRP064478 Illumina Total Stranded RNA sequencing reads from 15 postmortem cervical spinal sections (7 ALS and 8 healthy controls) 15\n",
      "SRP100370 RNA-seq analysis revealed aberrant gene expression in motor neurons derived from ALS patient iPSCs bearing SOD1+/A272C mutation 4\n"
     ]
    }
   ],
   "source": [
    "df = pd.read_csv(\"recount3.csv\")\n",
    "for row in df[df.project.isin([\"SRP067645\", \"SRP064478\", \"SRP100370\"])].iterrows():\n",
    "    print(row[1][\"project\"], row[1][\"study_title\"], row[1][\"n_samples\"])"
   ]
  },
  {
   "cell_type": "markdown",
   "id": "8481cf5b-00ef-4a28-ba0d-ecdf5be13f34",
   "metadata": {},
   "source": [
    "For the available dataset, it showed that it correctly found the dataset. How about unavailable project?"
   ]
  },
  {
   "cell_type": "code",
   "execution_count": 123,
   "id": "d326bb18-9228-4d54-a687-6c729d72c29d",
   "metadata": {},
   "outputs": [
    {
     "name": "stdout",
     "output_type": "stream",
     "text": [
      "[/INST]<<SYS>> I recommend the SAGE sequencing dataset from study SRP102119, \"Metastatic Breast Cancer Sample Sequencing\", which contains 37 human samples. This dataset provides a comprehensive view of breast cancer genomic variation and could be useful for answering questions related to cancer research.\n"
     ]
    }
   ],
   "source": [
    "print(rag_chain.invoke(\"recommend any SAGE sequencing dataset.\"))"
   ]
  },
  {
   "cell_type": "code",
   "execution_count": 124,
   "id": "7c6686d4-d7bf-45ce-b5d0-8bbc0ded51b5",
   "metadata": {},
   "outputs": [
    {
     "name": "stdout",
     "output_type": "stream",
     "text": [
      "SRP102119 Metastatic Breast Cancer Sample Sequencing 37\n",
      "Metastatic Breast Cancer patient tumor mass whole exome and transcriptome sequencing\n"
     ]
    }
   ],
   "source": [
    "for row in df[df.project.isin([\"SRP102119\"])].iterrows():\n",
    "    print(row[1][\"project\"], row[1][\"study_title\"], row[1][\"n_samples\"])\n",
    "    print(row[1][\"study_abstract\"])"
   ]
  },
  {
   "cell_type": "markdown",
   "id": "5579db3b-0b31-4fe4-9daa-5a4da1d4b61f",
   "metadata": {},
   "source": [
    "In this instance, we were unable to acquire the correct information, so it resorts to searching for a project whose topic aligns most closely with the query in the embedding space. How to mitigate cases like this one is now a question."
   ]
  }
 ],
 "metadata": {
  "kernelspec": {
   "display_name": "Python (transformer)",
   "language": "python",
   "name": "transformer"
  },
  "language_info": {
   "codemirror_mode": {
    "name": "ipython",
    "version": 3
   },
   "file_extension": ".py",
   "mimetype": "text/x-python",
   "name": "python",
   "nbconvert_exporter": "python",
   "pygments_lexer": "ipython3",
   "version": "3.12.2"
  }
 },
 "nbformat": 4,
 "nbformat_minor": 5
}
