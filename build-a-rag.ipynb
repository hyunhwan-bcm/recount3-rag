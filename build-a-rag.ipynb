{
 "cells": [
  {
   "cell_type": "code",
   "execution_count": 39,
   "id": "7da84181-da20-495d-80c8-7b093c8fc4cc",
   "metadata": {},
   "outputs": [],
   "source": [
    "from langchain_community.llms import Ollama\n",
    "from langchain_community.document_loaders import CSVLoader\n",
    "from langchain_community.vectorstores import FAISS\n",
    "from langchain_text_splitters import RecursiveCharacterTextSplitter\n",
    "from langchain_community.embeddings import GPT4AllEmbeddings\n",
    "from langchain import hub\n",
    "from langchain_core.runnables import RunnablePassthrough\n",
    "from langchain_core.output_parsers.string import StrOutputParser"
   ]
  },
  {
   "cell_type": "code",
   "execution_count": 7,
   "id": "3f04fb29-536c-4c09-8208-027169f0439d",
   "metadata": {},
   "outputs": [
    {
     "data": {
      "text/plain": [
       "Ollama(model='llama3')"
      ]
     },
     "execution_count": 7,
     "metadata": {},
     "output_type": "execute_result"
    }
   ],
   "source": [
    "llm = Ollama(model=\"llama3\")\n",
    "llm"
   ]
  },
  {
   "cell_type": "code",
   "execution_count": 27,
   "id": "f82ac6c3-c69a-408e-80b6-0e2d512941b3",
   "metadata": {},
   "outputs": [
    {
     "data": {
      "text/plain": [
       "18830"
      ]
     },
     "execution_count": 27,
     "metadata": {},
     "output_type": "execute_result"
    }
   ],
   "source": [
    "loader = CSVLoader(\"data/recount3.csv\")\n",
    "docs = loader.load()\n",
    "len(docs)"
   ]
  },
  {
   "cell_type": "code",
   "execution_count": 52,
   "id": "f4cbda47-10cf-43ae-99cb-7541dc6b7f40",
   "metadata": {},
   "outputs": [
    {
     "data": {
      "text/plain": [
       "4"
      ]
     },
     "execution_count": 52,
     "metadata": {},
     "output_type": "execute_result"
    }
   ],
   "source": [
    "text_splitter = RecursiveCharacterTextSplitter()\n",
    "documents = text_splitter.split_documents(docs)\n",
    "len(documents)"
   ]
  },
  {
   "cell_type": "code",
   "execution_count": 53,
   "id": "a11c04ef-2b97-4a19-855e-ccd392a06f41",
   "metadata": {},
   "outputs": [
    {
     "data": {
      "text/plain": [
       "[Document(page_content='organism: human\\nproject_home: data_sources/sra\\nproject: SRP179061\\nn_samples: 113\\nstudy_title: Alzheimer\\'s gene expression by cell type - SFG\\nstudy_abstract: AD patients all had Braak stages V or VI, and were also pathologically confirmed to have amyloid plaque. The \"SAMPLE_ID\" sample characteristic is a sample identifier internal to Genentech. The ID of this project in Genentech\\'s ExpressionPlot database is PRJ0018621 Overall design: RNA from purified cell types from AD and control post-mortem frozen superior frontal gyrus of AD and control patients.', metadata={'source': 'data/recount3.csv', 'row': 859}),\n",
       " Document(page_content='organism: human\\nproject_home: data_sources/sra\\nproject: SRP100948\\nn_samples: 117\\nstudy_title: Heterogeneity in neurodegenerative disease\\nstudy_abstract: RNA was purified from fusiform gyrus tissue sections of autopsy-confirmed Alzheimer\\'\\'s cases and neurologically normal age-matched controls. The \"SAM.ID\" sample characteristic is a sample identifier internal to Genentech. The ID of this project in Genentech\\'\\'s ExpressionPlot database is PRJ0007261 Overall design: RNA from fusiform gyrus of Alzheimer\\'\\'s or Neurologically Normal post-mortem tissue.', metadata={'source': 'data/recount3.csv', 'row': 846})]"
      ]
     },
     "execution_count": 53,
     "metadata": {},
     "output_type": "execute_result"
    }
   ],
   "source": [
    "documents[:2]"
   ]
  },
  {
   "cell_type": "code",
   "execution_count": 47,
   "id": "f731f465-3e18-47a6-aee7-2ddbfdd58be8",
   "metadata": {},
   "outputs": [
    {
     "data": {
      "text/plain": [
       "4"
      ]
     },
     "execution_count": 47,
     "metadata": {},
     "output_type": "execute_result"
    }
   ],
   "source": [
    "vector_store = FAISS.from_documents(documents, GPT4AllEmbeddings())\n",
    "retriever = vector_store.as_retriever()\n",
    "docs = vector_store.similarity_search(\"I want to find the available data to study Alzheimer's disease.\")\n",
    "\n",
    "len(docs)"
   ]
  },
  {
   "cell_type": "code",
   "execution_count": 54,
   "id": "eea1ac04-11e7-4567-85fd-5efa0f9503e9",
   "metadata": {},
   "outputs": [],
   "source": [
    "prompt = hub.pull(\"rlm/rag-prompt\")"
   ]
  },
  {
   "cell_type": "code",
   "execution_count": 55,
   "id": "08a18a94-2297-427d-b87e-a5326b7c7709",
   "metadata": {},
   "outputs": [],
   "source": [
    "def format_docs(docs):\n",
    "    return \"\\n\\n\".join(doc.page_content for doc in docs)"
   ]
  },
  {
   "cell_type": "code",
   "execution_count": 56,
   "id": "872f3b40-0471-4863-959e-dea6fc02cc9f",
   "metadata": {},
   "outputs": [],
   "source": [
    "rag_chain = (\n",
    "    {\"context\": retriever | format_docs, \"question\": RunnablePassthrough()}\n",
    "    | prompt\n",
    "    | llm\n",
    "    | StrOutputParser()\n",
    ")"
   ]
  },
  {
   "cell_type": "code",
   "execution_count": 60,
   "id": "7367bd5f-3cbc-491b-b30f-62220b03482a",
   "metadata": {},
   "outputs": [
    {
     "data": {
      "text/plain": [
       "'Based on the provided context, I recommend three available datasets that sequenced BV-173 cell-line. \\n\\n1. SRP106526 - This dataset has 6 samples from a study titled \"Homo sapiens Cell line Raw sequence reads\". \\n2. SRP017465 - This dataset has 23 samples from a study titled \"RNA sequencing results\" focused on human cell lines.\\n3. SRP028528 - This dataset has 25 samples from a study titled \"Homo sapiens Transcriptome or Gene expression\", which includes data from chronic phase and blast crisis CML, normal cord blood cells, and transduced lentiviral vectors.\\n\\nThese datasets are available at the SRA (Sequence Read Archive) under the project IDs mentioned.'"
      ]
     },
     "execution_count": 60,
     "metadata": {},
     "output_type": "execute_result"
    }
   ],
   "source": [
    "rag_chain.invoke(\"recommend available 3 datasets that sequenced BV-173 cell-line. And Please tell the project id and the number of samples.\")"
   ]
  },
  {
   "cell_type": "code",
   "execution_count": 70,
   "id": "ba3a8532-2944-4096-adc0-fcf2f26681ad",
   "metadata": {},
   "outputs": [],
   "source": [
    "vector_store.save_local(\"index/recount3.index\")"
   ]
  },
  {
   "cell_type": "code",
   "execution_count": null,
   "id": "d8ead080-6258-4e32-8e8a-1ce008bced8c",
   "metadata": {},
   "outputs": [],
   "source": []
  }
 ],
 "metadata": {
  "kernelspec": {
   "display_name": "Python (transformer)",
   "language": "python",
   "name": "transformer"
  },
  "language_info": {
   "codemirror_mode": {
    "name": "ipython",
    "version": 3
   },
   "file_extension": ".py",
   "mimetype": "text/x-python",
   "name": "python",
   "nbconvert_exporter": "python",
   "pygments_lexer": "ipython3",
   "version": "3.12.2"
  }
 },
 "nbformat": 4,
 "nbformat_minor": 5
}
